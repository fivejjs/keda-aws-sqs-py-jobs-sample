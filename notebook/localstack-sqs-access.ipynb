{
 "cells": [
  {
   "cell_type": "code",
   "execution_count": 1,
   "metadata": {},
   "outputs": [],
   "source": [
    "import boto3"
   ]
  },
  {
   "cell_type": "code",
   "execution_count": 7,
   "metadata": {},
   "outputs": [],
   "source": [
    "sqs = boto3.resource('sqs', endpoint_url='http://192.168.49.2:31566', region_name='ap-southeast-2')"
   ]
  },
  {
   "cell_type": "code",
   "execution_count": 13,
   "metadata": {},
   "outputs": [],
   "source": [
    "queue = sqs.create_queue(QueueName='crop-mask-dev')"
   ]
  },
  {
   "cell_type": "code",
   "execution_count": 14,
   "metadata": {},
   "outputs": [
    {
     "data": {
      "text/plain": [
       "{'ApproximateNumberOfMessages': '6',\n",
       " 'ApproximateNumberOfMessagesDelayed': '0',\n",
       " 'ApproximateNumberOfMessagesNotVisible': '0',\n",
       " 'CreatedTimestamp': '1610882261.18453',\n",
       " 'DelaySeconds': '0',\n",
       " 'LastModifiedTimestamp': '1610882261.18453',\n",
       " 'MaximumMessageSize': '262144',\n",
       " 'MessageRetentionPeriod': '345600',\n",
       " 'QueueArn': 'arn:aws:sqs:us-east-1:000000000000:crop-mask-dev',\n",
       " 'ReceiveMessageWaitTimeSeconds': '0',\n",
       " 'VisibilityTimeout': '30'}"
      ]
     },
     "execution_count": 14,
     "metadata": {},
     "output_type": "execute_result"
    }
   ],
   "source": [
    "queue.attributes"
   ]
  },
  {
   "cell_type": "code",
   "execution_count": 31,
   "metadata": {},
   "outputs": [],
   "source": [
    "resp = queue.receive_messages(AttributeNames=['ALL'])"
   ]
  },
  {
   "cell_type": "code",
   "execution_count": 5,
   "metadata": {},
   "outputs": [],
   "source": [
    "import json\n",
    "\n",
    "for i in range(10):\n",
    "    queue.send_message(MessageBody=json.dumps({'name': f'm0{i}'}))"
   ]
  },
  {
   "cell_type": "code",
   "execution_count": 32,
   "metadata": {},
   "outputs": [
    {
     "data": {
      "text/plain": [
       "'m01'"
      ]
     },
     "execution_count": 32,
     "metadata": {},
     "output_type": "execute_result"
    }
   ],
   "source": [
    "resp[0].body"
   ]
  },
  {
   "cell_type": "code",
   "execution_count": 15,
   "metadata": {},
   "outputs": [
    {
     "data": {
      "text/plain": [
       "['Message',\n",
       " '__class__',\n",
       " '__delattr__',\n",
       " '__dict__',\n",
       " '__dir__',\n",
       " '__doc__',\n",
       " '__eq__',\n",
       " '__format__',\n",
       " '__ge__',\n",
       " '__getattribute__',\n",
       " '__gt__',\n",
       " '__hash__',\n",
       " '__init__',\n",
       " '__init_subclass__',\n",
       " '__le__',\n",
       " '__lt__',\n",
       " '__module__',\n",
       " '__ne__',\n",
       " '__new__',\n",
       " '__reduce__',\n",
       " '__reduce_ex__',\n",
       " '__repr__',\n",
       " '__setattr__',\n",
       " '__sizeof__',\n",
       " '__str__',\n",
       " '__subclasshook__',\n",
       " '__weakref__',\n",
       " '_url',\n",
       " 'add_permission',\n",
       " 'attributes',\n",
       " 'change_message_visibility_batch',\n",
       " 'dead_letter_source_queues',\n",
       " 'delete',\n",
       " 'delete_messages',\n",
       " 'get_available_subresources',\n",
       " 'load',\n",
       " 'meta',\n",
       " 'purge',\n",
       " 'receive_messages',\n",
       " 'reload',\n",
       " 'remove_permission',\n",
       " 'send_message',\n",
       " 'send_messages',\n",
       " 'set_attributes',\n",
       " 'url']"
      ]
     },
     "execution_count": 15,
     "metadata": {},
     "output_type": "execute_result"
    }
   ],
   "source": [
    "dir(queue)"
   ]
  },
  {
   "cell_type": "code",
   "execution_count": 18,
   "metadata": {},
   "outputs": [],
   "source": [
    "from odc.aws import queue as aws_queue"
   ]
  },
  {
   "cell_type": "code",
   "execution_count": 33,
   "metadata": {},
   "outputs": [],
   "source": [
    "result=list(aws_queue.get_messages(queue))"
   ]
  },
  {
   "cell_type": "code",
   "execution_count": 34,
   "metadata": {},
   "outputs": [
    {
     "data": {
      "text/plain": [
       "[sqs.Message(queue_url='http://localhost:31566/000000000000/crop-mask-dev', receipt_handle='wqhonlsntdcmnbitigtbrazjgqrpbkyhccxcjsaufkdftomuehqdqfogcwpfrplqyqgcittteovsodtlfydndquhqmqljxovhuulbdosxyiyrdzgrhdrwxfftednbsrtfuqfyuomsjiinakztvpdhrkdgkwhnazghdbfojriimxtvjyxoyqnlzaej'),\n",
       " sqs.Message(queue_url='http://localhost:31566/000000000000/crop-mask-dev', receipt_handle='zpsuuzdughoffyblvnomjcjtvpecktbynnngxgqmgmihguggyrxgoiqeefqtlgzohjsfhsvvnjifgwksmjhkecmoofvyufxdqvbqukffzqdmkudgkztcrvuftgtsptasnlcfskmegqydpdxevwsdwpwfppiwmzyoypgrjfkqpmpojnaliblysvdmq'),\n",
       " sqs.Message(queue_url='http://localhost:31566/000000000000/crop-mask-dev', receipt_handle='tlygpsdahvktnpshkwasuoozfyargnxmzujwglwsvstbfgoiyafosttsawsyaaybxdouutqueslfpgznrxczvdmbvywqdwccykxrjrmfbhbczrwsoqnjlamxceipzboyexekdjvruajizgndzmplslncxwkrshnktloamboidshkljgzdtulgzizi'),\n",
       " sqs.Message(queue_url='http://localhost:31566/000000000000/crop-mask-dev', receipt_handle='yduogsddhueyqjiqkhkxkwunqjkrvurdnulrfawxgdrxmqsmyrneaclqjlijbpboonrpqdfwkmfelefqtagitopmsiwnzhtipbpvtquosoespirkvqabnxgczoksfdkocrdwhgucdajtzopkvayumzpyovjkhbwkbwkjkmyqkfmbwyjuqijqmajbc'),\n",
       " sqs.Message(queue_url='http://localhost:31566/000000000000/crop-mask-dev', receipt_handle='odxlsffvibbldseprxizviyiymxjtkzcczsvnopnjncmhupeyeiepqrakajzchqurpwgynmjlgvkzywyurudvioclwvngophnlkcghpqzgwramimaasybvahiuagoczmnoqshngsbvqxvjvfmfeqpuoqyqdrvqkigaomaxmxuyepjmpgdhynokfuy'),\n",
       " sqs.Message(queue_url='http://localhost:31566/000000000000/crop-mask-dev', receipt_handle='aijjyelzbzsbtccuimanvbpeazlwwzpxajtmfybyhedaklmwbtbvgcmhitwwhonctnmmhcqxybjocrlihtihbbdwwxsbbwjuoqcjkhrtqcsgijpbyflciavlbglllibphtcilzrfjwcyhxceqhjggnkapzwinosgfkwbtpvrhokylvxyhwhoapcqo'),\n",
       " sqs.Message(queue_url='http://localhost:31566/000000000000/crop-mask-dev', receipt_handle='xsernzlbzvlyucviiyvopblxsczkvekprdcblkzwuueidsxuhnklmtbsjclainoytoaekkeifefcnrtrtycvcnoaimminstrliqkloqrloxniryryjflyqbcldapxuogcsulbhckucbqophtywhgvxxakwhudgcmycslwtcekguecszccdqbpnytt'),\n",
       " sqs.Message(queue_url='http://localhost:31566/000000000000/crop-mask-dev', receipt_handle='ugtioykehfueadcegwfbvnnnycnopevxtkugiciqibxnyfzwllbklfkukvnyumcoahyyarmiymikibgjszbaqlkzdzqhrhtheodxvlxjeqepqfuaalfbfefymkauimomqirquxaolgnbdeoycjelhivsqdnmfspdmlrqwimnqdqwnwmimtxbrtzdx'),\n",
       " sqs.Message(queue_url='http://localhost:31566/000000000000/crop-mask-dev', receipt_handle='fbjkbfcfehubtzsunjyclnqparnnjieaupimumpjcozyzonelromfzxgsoxbphekdfkxbioufwuwjqhvekbhovpjsqavcgvuaqkcmrfclcjtfyhmyblthclblavsozxikhrhfgbhfguajailwdeyxgpvnikvshtrbyabsfxgfllcevpladaiemxho'),\n",
       " sqs.Message(queue_url='http://localhost:31566/000000000000/crop-mask-dev', receipt_handle='eszmpgntzecevrqhbgomllkergfgycbmozdhhobgmpgbcjnvsxwyfotkxiwpmovlwkugdvohswopcsxtcasuagbnfwwimgginbbbykwtselgvubfokkorgrlpqbtfpuvevqmyaesggxyzpglsuntoalyzkjyrqbucxjzxvcrptrkszaaarqqayhhm')]"
      ]
     },
     "execution_count": 34,
     "metadata": {},
     "output_type": "execute_result"
    }
   ],
   "source": [
    "result"
   ]
  },
  {
   "cell_type": "code",
   "execution_count": 37,
   "metadata": {},
   "outputs": [],
   "source": [
    "from  datacube import Datacube"
   ]
  },
  {
   "cell_type": "code",
   "execution_count": 27,
   "metadata": {},
   "outputs": [
    {
     "data": {
      "text/plain": [
       "'/home/ga/wa/keda_wa/llqueue_py/.venv/lib/python3.8/site-packages/datacube/__init__.py'"
      ]
     },
     "execution_count": 27,
     "metadata": {},
     "output_type": "execute_result"
    }
   ],
   "source": [
    "datacube.__file__"
   ]
  },
  {
   "cell_type": "code",
   "execution_count": 40,
   "metadata": {},
   "outputs": [],
   "source": [
    "dc = Datacube(app='test')"
   ]
  },
  {
   "cell_type": "code",
   "execution_count": 41,
   "metadata": {},
   "outputs": [
    {
     "data": {
      "text/html": [
       "<div>\n",
       "<style scoped>\n",
       "    .dataframe tbody tr th:only-of-type {\n",
       "        vertical-align: middle;\n",
       "    }\n",
       "\n",
       "    .dataframe tbody tr th {\n",
       "        vertical-align: top;\n",
       "    }\n",
       "\n",
       "    .dataframe thead th {\n",
       "        text-align: right;\n",
       "    }\n",
       "</style>\n",
       "<table border=\"1\" class=\"dataframe\">\n",
       "  <thead>\n",
       "    <tr style=\"text-align: right;\">\n",
       "      <th></th>\n",
       "      <th>name</th>\n",
       "      <th>description</th>\n",
       "      <th>crs</th>\n",
       "      <th>resolution</th>\n",
       "      <th>tile_size</th>\n",
       "      <th>spatial_dimensions</th>\n",
       "    </tr>\n",
       "    <tr>\n",
       "      <th>id</th>\n",
       "      <th></th>\n",
       "      <th></th>\n",
       "      <th></th>\n",
       "      <th></th>\n",
       "      <th></th>\n",
       "      <th></th>\n",
       "    </tr>\n",
       "  </thead>\n",
       "  <tbody>\n",
       "  </tbody>\n",
       "</table>\n",
       "</div>"
      ],
      "text/plain": [
       "Empty DataFrame\n",
       "Columns: [name, description, crs, resolution, tile_size, spatial_dimensions]\n",
       "Index: []"
      ]
     },
     "execution_count": 41,
     "metadata": {},
     "output_type": "execute_result"
    }
   ],
   "source": [
    "dc.list_products()"
   ]
  },
  {
   "cell_type": "code",
   "execution_count": 12,
   "metadata": {},
   "outputs": [
    {
     "name": "stdout",
     "output_type": "stream",
     "text": [
      "Object `sqs.Qeue` not found.\n"
     ]
    }
   ],
   "source": [
    "sqs.Qeue?"
   ]
  },
  {
   "cell_type": "code",
   "execution_count": 30,
   "metadata": {},
   "outputs": [
    {
     "data": {
      "text/plain": [
       "{'ApproximateNumberOfMessages': '11',\n",
       " 'ApproximateNumberOfMessagesDelayed': '0',\n",
       " 'ApproximateNumberOfMessagesNotVisible': '0',\n",
       " 'CreatedTimestamp': '1610769639.320138',\n",
       " 'DelaySeconds': '0',\n",
       " 'LastModifiedTimestamp': '1610769639.320138',\n",
       " 'MaximumMessageSize': '262144',\n",
       " 'MessageRetentionPeriod': '345600',\n",
       " 'QueueArn': 'arn:aws:sqs:us-east-1:000000000000:crop-mask-dev',\n",
       " 'ReceiveMessageWaitTimeSeconds': '0',\n",
       " 'VisibilityTimeout': '30'}"
      ]
     },
     "execution_count": 30,
     "metadata": {},
     "output_type": "execute_result"
    }
   ],
   "source": [
    "queue.attributes"
   ]
  },
  {
   "cell_type": "code",
   "execution_count": 36,
   "metadata": {},
   "outputs": [
    {
     "data": {
      "text/plain": [
       "['{\"name\": \"m0\", \"value\": 0}',\n",
       " '{\"name\": \"m1\", \"value\": 1}',\n",
       " '{\"name\": \"m2\", \"value\": 2}',\n",
       " '{\"name\": \"m3\", \"value\": 3}',\n",
       " '{\"name\": \"m4\", \"value\": 4}',\n",
       " '{\"name\": \"m5\", \"value\": 5}',\n",
       " '{\"name\": \"m6\", \"value\": 6}',\n",
       " '{\"name\": \"m7\", \"value\": 7}',\n",
       " '{\"name\": \"m8\", \"value\": 8}',\n",
       " '{\"name\": \"m9\", \"value\": 9}']"
      ]
     },
     "execution_count": 36,
     "metadata": {},
     "output_type": "execute_result"
    }
   ],
   "source": [
    "[r.body for r in result]"
   ]
  },
  {
   "cell_type": "code",
   "execution_count": 42,
   "metadata": {},
   "outputs": [
    {
     "ename": "ModuleNotFoundError",
     "evalue": "No module named 'gdal'",
     "output_type": "error",
     "traceback": [
      "\u001b[0;31m---------------------------------------------------------------------------\u001b[0m",
      "\u001b[0;31mModuleNotFoundError\u001b[0m                       Traceback (most recent call last)",
      "\u001b[0;32m<ipython-input-42-ee38efafc30b>\u001b[0m in \u001b[0;36m<module>\u001b[0;34m\u001b[0m\n\u001b[0;32m----> 1\u001b[0;31m \u001b[0;32mimport\u001b[0m \u001b[0mgdal\u001b[0m\u001b[0;34m\u001b[0m\u001b[0;34m\u001b[0m\u001b[0m\n\u001b[0m",
      "\u001b[0;31mModuleNotFoundError\u001b[0m: No module named 'gdal'"
     ]
    }
   ],
   "source": []
  },
  {
   "cell_type": "code",
   "execution_count": null,
   "metadata": {},
   "outputs": [],
   "source": []
  }
 ],
 "metadata": {
  "kernelspec": {
   "display_name": "Python 3",
   "language": "python",
   "name": "python3"
  },
  "language_info": {
   "codemirror_mode": {
    "name": "ipython",
    "version": 3
   },
   "file_extension": ".py",
   "mimetype": "text/x-python",
   "name": "python",
   "nbconvert_exporter": "python",
   "pygments_lexer": "ipython3",
   "version": "3.6.9"
  }
 },
 "nbformat": 4,
 "nbformat_minor": 5
}
