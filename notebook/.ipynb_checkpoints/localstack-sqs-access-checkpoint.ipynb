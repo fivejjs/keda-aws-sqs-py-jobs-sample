{
 "cells": [
  {
   "cell_type": "code",
   "execution_count": 1,
   "id": "agreed-exception",
   "metadata": {},
   "outputs": [],
   "source": [
    "import boto3"
   ]
  },
  {
   "cell_type": "code",
   "execution_count": 2,
   "id": "incorporated-shame",
   "metadata": {},
   "outputs": [],
   "source": [
    "sqs = boto3.resource('sqs', endpoint_url='http://192.168.49.2:31566')"
   ]
  },
  {
   "cell_type": "code",
   "execution_count": 4,
   "id": "happy-champagne",
   "metadata": {},
   "outputs": [],
   "source": [
    "queue = sqs.create_queue(QueueName='crop-mask-dev')"
   ]
  },
  {
   "cell_type": "code",
   "execution_count": 5,
   "id": "wrapped-virtue",
   "metadata": {},
   "outputs": [
    {
     "data": {
      "text/plain": [
       "{'MD5OfMessageBody': '842dd48ac68c2167bc9c2530d1bf7db1',\n",
       " 'MessageId': '80c65de3-5050-4b46-0340-97efebcf5577',\n",
       " 'ResponseMetadata': {'RequestId': 'GOSX5N9OPIV3CS7BGSYNZFQRE7US4NLYQZEIBRGDY5YNWHPGZSC9',\n",
       "  'HTTPStatusCode': 200,\n",
       "  'HTTPHeaders': {'content-type': 'text/html; charset=utf-8',\n",
       "   'content-length': '322',\n",
       "   'x-amzn-requestid': 'GOSX5N9OPIV3CS7BGSYNZFQRE7US4NLYQZEIBRGDY5YNWHPGZSC9',\n",
       "   'x-amz-crc32': '653001947',\n",
       "   'access-control-allow-origin': '*',\n",
       "   'access-control-allow-methods': 'HEAD,GET,PUT,POST,DELETE,OPTIONS,PATCH',\n",
       "   'access-control-allow-headers': 'authorization,content-type,content-md5,cache-control,x-amz-content-sha256,x-amz-date,x-amz-security-token,x-amz-user-agent,x-amz-target,x-amz-acl,x-amz-version-id,x-localstack-target,x-amz-tagging',\n",
       "   'access-control-expose-headers': 'x-amz-version-id',\n",
       "   'connection': 'close',\n",
       "   'date': 'Sat, 16 Jan 2021 04:00:50 GMT',\n",
       "   'server': 'hypercorn-h11'},\n",
       "  'RetryAttempts': 0}}"
      ]
     },
     "execution_count": 5,
     "metadata": {},
     "output_type": "execute_result"
    }
   ],
   "source": [
    "queue.send_message(MessageBody='m01')"
   ]
  },
  {
   "cell_type": "code",
   "execution_count": 6,
   "id": "continental-china",
   "metadata": {},
   "outputs": [
    {
     "data": {
      "text/plain": [
       "['Message',\n",
       " '__class__',\n",
       " '__delattr__',\n",
       " '__dict__',\n",
       " '__dir__',\n",
       " '__doc__',\n",
       " '__eq__',\n",
       " '__format__',\n",
       " '__ge__',\n",
       " '__getattribute__',\n",
       " '__gt__',\n",
       " '__hash__',\n",
       " '__init__',\n",
       " '__init_subclass__',\n",
       " '__le__',\n",
       " '__lt__',\n",
       " '__module__',\n",
       " '__ne__',\n",
       " '__new__',\n",
       " '__reduce__',\n",
       " '__reduce_ex__',\n",
       " '__repr__',\n",
       " '__setattr__',\n",
       " '__sizeof__',\n",
       " '__str__',\n",
       " '__subclasshook__',\n",
       " '__weakref__',\n",
       " '_url',\n",
       " 'add_permission',\n",
       " 'attributes',\n",
       " 'change_message_visibility_batch',\n",
       " 'dead_letter_source_queues',\n",
       " 'delete',\n",
       " 'delete_messages',\n",
       " 'get_available_subresources',\n",
       " 'load',\n",
       " 'meta',\n",
       " 'purge',\n",
       " 'receive_messages',\n",
       " 'reload',\n",
       " 'remove_permission',\n",
       " 'send_message',\n",
       " 'send_messages',\n",
       " 'set_attributes',\n",
       " 'url']"
      ]
     },
     "execution_count": 6,
     "metadata": {},
     "output_type": "execute_result"
    }
   ],
   "source": [
    "dir(queue)"
   ]
  },
  {
   "cell_type": "code",
   "execution_count": 14,
   "id": "environmental-representation",
   "metadata": {},
   "outputs": [],
   "source": [
    "resp = queue.receive_messages()"
   ]
  },
  {
   "cell_type": "code",
   "execution_count": 18,
   "id": "neutral-primary",
   "metadata": {},
   "outputs": [
    {
     "data": {
      "text/plain": [
       "1"
      ]
     },
     "execution_count": 18,
     "metadata": {},
     "output_type": "execute_result"
    }
   ],
   "source": [
    "len(resp)"
   ]
  },
  {
   "cell_type": "code",
   "execution_count": 11,
   "id": "rocky-massachusetts",
   "metadata": {},
   "outputs": [
    {
     "data": {
      "text/plain": [
       "['Message',\n",
       " 'Queue',\n",
       " '__class__',\n",
       " '__delattr__',\n",
       " '__dict__',\n",
       " '__dir__',\n",
       " '__doc__',\n",
       " '__eq__',\n",
       " '__format__',\n",
       " '__ge__',\n",
       " '__getattribute__',\n",
       " '__gt__',\n",
       " '__hash__',\n",
       " '__init__',\n",
       " '__init_subclass__',\n",
       " '__le__',\n",
       " '__lt__',\n",
       " '__module__',\n",
       " '__ne__',\n",
       " '__new__',\n",
       " '__reduce__',\n",
       " '__reduce_ex__',\n",
       " '__repr__',\n",
       " '__setattr__',\n",
       " '__sizeof__',\n",
       " '__str__',\n",
       " '__subclasshook__',\n",
       " '__weakref__',\n",
       " 'create_queue',\n",
       " 'get_available_subresources',\n",
       " 'get_queue_by_name',\n",
       " 'meta',\n",
       " 'queues']"
      ]
     },
     "execution_count": 11,
     "metadata": {},
     "output_type": "execute_result"
    }
   ],
   "source": [
    "dir(sqs)"
   ]
  },
  {
   "cell_type": "code",
   "execution_count": 12,
   "id": "static-mainland",
   "metadata": {},
   "outputs": [
    {
     "name": "stdout",
     "output_type": "stream",
     "text": [
      "Object `sqs.Qeue` not found.\n"
     ]
    }
   ],
   "source": [
    "sqs.Qeue?"
   ]
  },
  {
   "cell_type": "code",
   "execution_count": 19,
   "id": "accepted-redhead",
   "metadata": {},
   "outputs": [
    {
     "data": {
      "text/plain": [
       "{'ApproximateNumberOfMessages': '10',\n",
       " 'ApproximateNumberOfMessagesDelayed': '0',\n",
       " 'ApproximateNumberOfMessagesNotVisible': '1',\n",
       " 'CreatedTimestamp': '1610769639.320138',\n",
       " 'DelaySeconds': '0',\n",
       " 'LastModifiedTimestamp': '1610769639.320138',\n",
       " 'MaximumMessageSize': '262144',\n",
       " 'MessageRetentionPeriod': '345600',\n",
       " 'QueueArn': 'arn:aws:sqs:us-east-1:000000000000:crop-mask-dev',\n",
       " 'ReceiveMessageWaitTimeSeconds': '0',\n",
       " 'VisibilityTimeout': '30'}"
      ]
     },
     "execution_count": 19,
     "metadata": {},
     "output_type": "execute_result"
    }
   ],
   "source": [
    "queue.attributes"
   ]
  },
  {
   "cell_type": "code",
   "execution_count": null,
   "id": "running-gravity",
   "metadata": {},
   "outputs": [],
   "source": []
  }
 ],
 "metadata": {
  "kernelspec": {
   "display_name": "Python 3",
   "language": "python",
   "name": "python3"
  },
  "language_info": {
   "codemirror_mode": {
    "name": "ipython",
    "version": 3
   },
   "file_extension": ".py",
   "mimetype": "text/x-python",
   "name": "python",
   "nbconvert_exporter": "python",
   "pygments_lexer": "ipython3",
   "version": "3.8.5"
  }
 },
 "nbformat": 4,
 "nbformat_minor": 5
}
